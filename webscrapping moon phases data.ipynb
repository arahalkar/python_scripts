{
 "cells": [
  {
   "cell_type": "code",
   "execution_count": 286,
   "metadata": {},
   "outputs": [],
   "source": [
    "import requests\n",
    "import bs4\n",
    "import re "
   ]
  },
  {
   "cell_type": "code",
   "execution_count": 192,
   "metadata": {},
   "outputs": [],
   "source": [
    "base_URL = \"https://tidesandcurrents.noaa.gov/moon_phases.shtml?year={}&data_type=mon{}\"\n",
    "year=2020\n",
    "months=['Jan','Feb', 'Mar','April','May','June','July','Aug','Sept','Oct','Nov','Dec']\n",
    "full_moon_dates=[]\n",
    "new_moon_dates=[]\n",
    "row=[]\n",
    "phases_table=[]\n",
    "\n",
    "full_moon_final_list = []\n",
    "full_moon_final_list.clear()\n",
    "\n",
    "new_moon_final_list=[]\n",
    "new_moon_final_list.clear()\n",
    "\n",
    "for m in months: \n",
    "    url = base_URL.format(year,m)\n",
    "    result = requests.get(url)\n",
    "    soup = bs4.BeautifulSoup(result.text,'lxml')\n",
    "    phases_table.append(soup.find('table').find_all('tr')[1:])\n",
    "\n",
    "for months in phases_table:\n",
    "    for each_month in months: \n",
    "        str_month = str(each_month)\n",
    "        if \"X3.gif\" in str_month:\n",
    "            full_moon_dates.append(str_month)\n",
    "        if \"X1.gif\" in str_month:\n",
    "            new_moon_dates.append(str_month)"
   ]
  },
  {
   "cell_type": "code",
   "execution_count": 287,
   "metadata": {},
   "outputs": [],
   "source": [
    "full_moon_final_list = []\n",
    "full_moon_final_list.clear()\n",
    "\n",
    "new_moon_final_list=[]\n",
    "new_moon_final_list.clear()\n",
    "\n",
    "for items in full_moon_dates:\n",
    "    date_text = items.split(' ')[3]\n",
    "    date = re.search(r'\\d\\d\\s',date_text)\n",
    "    month = re.search(r'<b>\\D\\D\\D',date_text)\n",
    "    #print(date_text)\n",
    "    full_moon_final_list.append( tuple( (month.group()[3:], date.group()[:2], year) ) )\n",
    "    #full_moon_final_list.append(date.group())\n",
    "    #print(date.group())\n",
    "    #print(month.group())    \n",
    "\n",
    "for items in new_moon_dates:\n",
    "    date_text = items.split(' ')[3]\n",
    "    date = re.search(r'\\d\\d\\s',date_text)\n",
    "    month = re.search(r'<b>\\D\\D\\D',date_text)\n",
    "    #print(date_text)\n",
    "    new_moon_final_list.append( tuple( (month.group()[3:], date.group()[:2], year) ) )\n",
    "    #full_moon_final_list.append(date.group())\n",
    "    #print(date.group())\n",
    "    #print(month.group())    \n",
    "\n"
   ]
  },
  {
   "cell_type": "code",
   "execution_count": 288,
   "metadata": {},
   "outputs": [
    {
     "data": {
      "text/plain": [
       "[('Jan', '10', 2020),\n",
       " ('Feb', '09', 2020),\n",
       " ('Mar', '09', 2020),\n",
       " ('Apr', '08', 2020),\n",
       " ('May', '07', 2020),\n",
       " ('Jun', '05', 2020),\n",
       " ('Jul', '05', 2020),\n",
       " ('Aug', '03', 2020),\n",
       " ('Sep', '02', 2020),\n",
       " ('Oct', '01', 2020),\n",
       " ('Oct', '31', 2020),\n",
       " ('Nov', '30', 2020),\n",
       " ('Dec', '30', 2020)]"
      ]
     },
     "execution_count": 288,
     "metadata": {},
     "output_type": "execute_result"
    }
   ],
   "source": [
    "full_moon_final_list"
   ]
  },
  {
   "cell_type": "code",
   "execution_count": 289,
   "metadata": {},
   "outputs": [
    {
     "data": {
      "text/plain": [
       "[('Jan', '24', 2020),\n",
       " ('Feb', '23', 2020),\n",
       " ('Mar', '24', 2020),\n",
       " ('Apr', '23', 2020),\n",
       " ('May', '22', 2020),\n",
       " ('Jun', '21', 2020),\n",
       " ('Jul', '20', 2020),\n",
       " ('Aug', '19', 2020),\n",
       " ('Sep', '17', 2020),\n",
       " ('Oct', '16', 2020),\n",
       " ('Nov', '15', 2020),\n",
       " ('Dec', '14', 2020)]"
      ]
     },
     "execution_count": 289,
     "metadata": {},
     "output_type": "execute_result"
    }
   ],
   "source": [
    "new_moon_final_list"
   ]
  },
  {
   "cell_type": "code",
   "execution_count": 292,
   "metadata": {},
   "outputs": [
    {
     "name": "stdout",
     "output_type": "stream",
     "text": [
      "The full moon on Jan was on day 10  and the year was 2020\n",
      "The full moon on Feb was on day 09  and the year was 2020\n",
      "The full moon on Mar was on day 09  and the year was 2020\n",
      "The full moon on Apr was on day 08  and the year was 2020\n",
      "The full moon on May was on day 07  and the year was 2020\n",
      "The full moon on Jun was on day 05  and the year was 2020\n",
      "The full moon on Jul was on day 05  and the year was 2020\n",
      "The full moon on Aug was on day 03  and the year was 2020\n",
      "The full moon on Sep was on day 02  and the year was 2020\n",
      "The full moon on Oct was on day 01  and the year was 2020\n",
      "The full moon on Oct was on day 31  and the year was 2020\n",
      "The full moon on Nov was on day 30  and the year was 2020\n",
      "The full moon on Dec was on day 30  and the year was 2020\n"
     ]
    }
   ],
   "source": [
    "for full_moon in full_moon_final_list: \n",
    "    m,d,y = full_moon\n",
    "    print(\"The full moon on {} was on day {}  and the year was {}\".format(m,d,y))"
   ]
  },
  {
   "cell_type": "code",
   "execution_count": null,
   "metadata": {},
   "outputs": [],
   "source": []
  }
 ],
 "metadata": {
  "kernelspec": {
   "display_name": "Python 3",
   "language": "python",
   "name": "python3"
  },
  "language_info": {
   "codemirror_mode": {
    "name": "ipython",
    "version": 3
   },
   "file_extension": ".py",
   "mimetype": "text/x-python",
   "name": "python",
   "nbconvert_exporter": "python",
   "pygments_lexer": "ipython3",
   "version": "3.8.5"
  }
 },
 "nbformat": 4,
 "nbformat_minor": 4
}
